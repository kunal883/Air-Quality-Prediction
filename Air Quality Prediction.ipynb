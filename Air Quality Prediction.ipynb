{
 "cells": [
  {
   "cell_type": "code",
   "execution_count": 1,
   "id": "bff6cf5c",
   "metadata": {},
   "outputs": [],
   "source": [
    "import pandas as pd\n",
    "import numpy as np\n",
    "import seaborn as sns\n",
    "import matplotlib.pyplot as plt\n",
    "from collections import Counter\n",
    "from sklearn.model_selection import RandomizedSearchCV\n",
    "from sklearn.model_selection import train_test_split\n",
    "from sklearn.metrics import accuracy_score, precision_score, recall_score, f1_score, confusion_matrix, classification_report, roc_curve\n",
    "import warnings\n",
    "warnings.filterwarnings('ignore')"
   ]
  },
  {
   "cell_type": "code",
   "execution_count": 28,
   "id": "a3a814b5",
   "metadata": {},
   "outputs": [],
   "source": [
    "data = pd.read_csv('D:\\Air quality data\\city_day.csv')"
   ]
  },
  {
   "cell_type": "code",
   "execution_count": 29,
   "id": "ca07b51f",
   "metadata": {},
   "outputs": [
    {
     "name": "stdout",
     "output_type": "stream",
     "text": [
      "                City        Date  PM2.5   PM10     NO    NO2    NOx    NH3  \\\n",
      "0          Ahmedabad  01-01-2015    NaN    NaN   0.92  18.22  17.15    NaN   \n",
      "1          Ahmedabad  02-01-2015    NaN    NaN   0.97  15.69  16.46    NaN   \n",
      "2          Ahmedabad  03-01-2015    NaN    NaN  17.40  19.30  29.70    NaN   \n",
      "3          Ahmedabad  04-01-2015    NaN    NaN   1.70  18.48  17.97    NaN   \n",
      "4          Ahmedabad  05-01-2015    NaN    NaN  22.10  21.42  37.76    NaN   \n",
      "...              ...         ...    ...    ...    ...    ...    ...    ...   \n",
      "29526  Visakhapatnam  27-06-2020  15.02  50.94   7.68  25.06  19.54  12.47   \n",
      "29527  Visakhapatnam  28-06-2020  24.38  74.09   3.42  26.06  16.53  11.99   \n",
      "29528  Visakhapatnam  29-06-2020  22.91  65.73   3.45  29.53  18.33  10.71   \n",
      "29529  Visakhapatnam  30-06-2020  16.64  49.97   4.05  29.26  18.80  10.03   \n",
      "29530  Visakhapatnam  01-07-2020  15.00  66.00   0.40  26.85  14.05   5.20   \n",
      "\n",
      "          CO    SO2      O3  Benzene  Toluene  Xylene   AQI    AQI_Bucket  \n",
      "0       0.92  27.64  133.36     0.00     0.02    0.00   NaN           NaN  \n",
      "1       0.97  24.55   34.06     3.68     5.50    3.77   NaN           NaN  \n",
      "2      17.40  29.07   30.70     6.80    16.40    2.25   NaN           NaN  \n",
      "3       1.70  18.59   36.08     4.43    10.14    1.00   NaN           NaN  \n",
      "4      22.10  39.33   39.31     7.01    18.89    2.78   NaN           NaN  \n",
      "...      ...    ...     ...      ...      ...     ...   ...           ...  \n",
      "29526   0.47   8.55   23.30     2.24    12.07    0.73  41.0          Good  \n",
      "29527   0.52  12.72   30.14     0.74     2.21    0.38  70.0  Satisfactory  \n",
      "29528   0.48   8.42   30.96     0.01     0.01    0.00  68.0  Satisfactory  \n",
      "29529   0.52   9.84   28.30     0.00     0.00    0.00  54.0  Satisfactory  \n",
      "29530   0.59   2.10   17.05      NaN      NaN     NaN  50.0          Good  \n",
      "\n",
      "[29531 rows x 16 columns]\n"
     ]
    }
   ],
   "source": [
    "print(data)"
   ]
  },
  {
   "cell_type": "code",
   "execution_count": 30,
   "id": "bdda4607",
   "metadata": {},
   "outputs": [],
   "source": [
    "import seaborn as sns\n",
    "from sklearn.preprocessing import LabelEncoder\n",
    "from imblearn.over_sampling import ADASYN\n",
    "from sklearn.ensemble import RandomForestClassifier"
   ]
  },
  {
   "cell_type": "code",
   "execution_count": 31,
   "id": "f0903290",
   "metadata": {},
   "outputs": [
    {
     "data": {
      "text/html": [
       "<div>\n",
       "<style scoped>\n",
       "    .dataframe tbody tr th:only-of-type {\n",
       "        vertical-align: middle;\n",
       "    }\n",
       "\n",
       "    .dataframe tbody tr th {\n",
       "        vertical-align: top;\n",
       "    }\n",
       "\n",
       "    .dataframe thead th {\n",
       "        text-align: right;\n",
       "    }\n",
       "</style>\n",
       "<table border=\"1\" class=\"dataframe\">\n",
       "  <thead>\n",
       "    <tr style=\"text-align: right;\">\n",
       "      <th></th>\n",
       "      <th>City</th>\n",
       "      <th>Date</th>\n",
       "      <th>PM2.5</th>\n",
       "      <th>PM10</th>\n",
       "      <th>NO</th>\n",
       "      <th>NO2</th>\n",
       "      <th>NOx</th>\n",
       "      <th>NH3</th>\n",
       "      <th>CO</th>\n",
       "      <th>SO2</th>\n",
       "      <th>O3</th>\n",
       "      <th>Benzene</th>\n",
       "      <th>Toluene</th>\n",
       "      <th>Xylene</th>\n",
       "      <th>AQI</th>\n",
       "      <th>Air-quality</th>\n",
       "    </tr>\n",
       "  </thead>\n",
       "  <tbody>\n",
       "    <tr>\n",
       "      <th>0</th>\n",
       "      <td>Ahmedabad</td>\n",
       "      <td>01-01-2015</td>\n",
       "      <td>NaN</td>\n",
       "      <td>NaN</td>\n",
       "      <td>0.92</td>\n",
       "      <td>18.22</td>\n",
       "      <td>17.15</td>\n",
       "      <td>NaN</td>\n",
       "      <td>0.92</td>\n",
       "      <td>27.64</td>\n",
       "      <td>133.36</td>\n",
       "      <td>0.00</td>\n",
       "      <td>0.02</td>\n",
       "      <td>0.00</td>\n",
       "      <td>NaN</td>\n",
       "      <td>NaN</td>\n",
       "    </tr>\n",
       "    <tr>\n",
       "      <th>1</th>\n",
       "      <td>Ahmedabad</td>\n",
       "      <td>02-01-2015</td>\n",
       "      <td>NaN</td>\n",
       "      <td>NaN</td>\n",
       "      <td>0.97</td>\n",
       "      <td>15.69</td>\n",
       "      <td>16.46</td>\n",
       "      <td>NaN</td>\n",
       "      <td>0.97</td>\n",
       "      <td>24.55</td>\n",
       "      <td>34.06</td>\n",
       "      <td>3.68</td>\n",
       "      <td>5.50</td>\n",
       "      <td>3.77</td>\n",
       "      <td>NaN</td>\n",
       "      <td>NaN</td>\n",
       "    </tr>\n",
       "    <tr>\n",
       "      <th>2</th>\n",
       "      <td>Ahmedabad</td>\n",
       "      <td>03-01-2015</td>\n",
       "      <td>NaN</td>\n",
       "      <td>NaN</td>\n",
       "      <td>17.40</td>\n",
       "      <td>19.30</td>\n",
       "      <td>29.70</td>\n",
       "      <td>NaN</td>\n",
       "      <td>17.40</td>\n",
       "      <td>29.07</td>\n",
       "      <td>30.70</td>\n",
       "      <td>6.80</td>\n",
       "      <td>16.40</td>\n",
       "      <td>2.25</td>\n",
       "      <td>NaN</td>\n",
       "      <td>NaN</td>\n",
       "    </tr>\n",
       "    <tr>\n",
       "      <th>3</th>\n",
       "      <td>Ahmedabad</td>\n",
       "      <td>04-01-2015</td>\n",
       "      <td>NaN</td>\n",
       "      <td>NaN</td>\n",
       "      <td>1.70</td>\n",
       "      <td>18.48</td>\n",
       "      <td>17.97</td>\n",
       "      <td>NaN</td>\n",
       "      <td>1.70</td>\n",
       "      <td>18.59</td>\n",
       "      <td>36.08</td>\n",
       "      <td>4.43</td>\n",
       "      <td>10.14</td>\n",
       "      <td>1.00</td>\n",
       "      <td>NaN</td>\n",
       "      <td>NaN</td>\n",
       "    </tr>\n",
       "    <tr>\n",
       "      <th>4</th>\n",
       "      <td>Ahmedabad</td>\n",
       "      <td>05-01-2015</td>\n",
       "      <td>NaN</td>\n",
       "      <td>NaN</td>\n",
       "      <td>22.10</td>\n",
       "      <td>21.42</td>\n",
       "      <td>37.76</td>\n",
       "      <td>NaN</td>\n",
       "      <td>22.10</td>\n",
       "      <td>39.33</td>\n",
       "      <td>39.31</td>\n",
       "      <td>7.01</td>\n",
       "      <td>18.89</td>\n",
       "      <td>2.78</td>\n",
       "      <td>NaN</td>\n",
       "      <td>NaN</td>\n",
       "    </tr>\n",
       "  </tbody>\n",
       "</table>\n",
       "</div>"
      ],
      "text/plain": [
       "        City        Date  PM2.5  PM10     NO    NO2    NOx  NH3     CO    SO2  \\\n",
       "0  Ahmedabad  01-01-2015    NaN   NaN   0.92  18.22  17.15  NaN   0.92  27.64   \n",
       "1  Ahmedabad  02-01-2015    NaN   NaN   0.97  15.69  16.46  NaN   0.97  24.55   \n",
       "2  Ahmedabad  03-01-2015    NaN   NaN  17.40  19.30  29.70  NaN  17.40  29.07   \n",
       "3  Ahmedabad  04-01-2015    NaN   NaN   1.70  18.48  17.97  NaN   1.70  18.59   \n",
       "4  Ahmedabad  05-01-2015    NaN   NaN  22.10  21.42  37.76  NaN  22.10  39.33   \n",
       "\n",
       "       O3  Benzene  Toluene  Xylene  AQI Air-quality  \n",
       "0  133.36     0.00     0.02    0.00  NaN         NaN  \n",
       "1   34.06     3.68     5.50    3.77  NaN         NaN  \n",
       "2   30.70     6.80    16.40    2.25  NaN         NaN  \n",
       "3   36.08     4.43    10.14    1.00  NaN         NaN  \n",
       "4   39.31     7.01    18.89    2.78  NaN         NaN  "
      ]
     },
     "execution_count": 31,
     "metadata": {},
     "output_type": "execute_result"
    }
   ],
   "source": [
    "data.rename(columns={'AQI_Bucket': 'Air-quality'}, inplace =True)\n",
    "data.head()"
   ]
  },
  {
   "cell_type": "code",
   "execution_count": 32,
   "id": "a9077c20",
   "metadata": {},
   "outputs": [
    {
     "data": {
      "text/plain": [
       "(29531, 16)"
      ]
     },
     "execution_count": 32,
     "metadata": {},
     "output_type": "execute_result"
    }
   ],
   "source": [
    "data.shape"
   ]
  },
  {
   "cell_type": "code",
   "execution_count": 33,
   "id": "e4d57d03",
   "metadata": {},
   "outputs": [
    {
     "name": "stdout",
     "output_type": "stream",
     "text": [
      "<class 'pandas.core.frame.DataFrame'>\n",
      "RangeIndex: 29531 entries, 0 to 29530\n",
      "Data columns (total 16 columns):\n",
      " #   Column       Non-Null Count  Dtype  \n",
      "---  ------       --------------  -----  \n",
      " 0   City         29531 non-null  object \n",
      " 1   Date         29531 non-null  object \n",
      " 2   PM2.5        24933 non-null  float64\n",
      " 3   PM10         18391 non-null  float64\n",
      " 4   NO           25949 non-null  float64\n",
      " 5   NO2          25946 non-null  float64\n",
      " 6   NOx          25346 non-null  float64\n",
      " 7   NH3          19203 non-null  float64\n",
      " 8   CO           27472 non-null  float64\n",
      " 9   SO2          25677 non-null  float64\n",
      " 10  O3           25509 non-null  float64\n",
      " 11  Benzene      23908 non-null  float64\n",
      " 12  Toluene      21490 non-null  float64\n",
      " 13  Xylene       11422 non-null  float64\n",
      " 14  AQI          24850 non-null  float64\n",
      " 15  Air-quality  24850 non-null  object \n",
      "dtypes: float64(13), object(3)\n",
      "memory usage: 3.6+ MB\n"
     ]
    }
   ],
   "source": [
    "data.info()"
   ]
  },
  {
   "cell_type": "code",
   "execution_count": 34,
   "id": "f8ec56d9",
   "metadata": {},
   "outputs": [
    {
     "data": {
      "text/plain": [
       "City               0\n",
       "Date               0\n",
       "PM2.5           4598\n",
       "PM10           11140\n",
       "NO              3582\n",
       "NO2             3585\n",
       "NOx             4185\n",
       "NH3            10328\n",
       "CO              2059\n",
       "SO2             3854\n",
       "O3              4022\n",
       "Benzene         5623\n",
       "Toluene         8041\n",
       "Xylene         18109\n",
       "AQI             4681\n",
       "Air-quality     4681\n",
       "dtype: int64"
      ]
     },
     "execution_count": 34,
     "metadata": {},
     "output_type": "execute_result"
    }
   ],
   "source": [
    "data.isnull().sum()"
   ]
  },
  {
   "cell_type": "code",
   "execution_count": 35,
   "id": "9c5a6eaa",
   "metadata": {},
   "outputs": [],
   "source": [
    "data['PM2.5'].fillna(method='bfill', inplace=True)\n",
    "data['PM10'].fillna(method='bfill', inplace=True)\n",
    "data['NO'].fillna(method='ffill', inplace=True)\n",
    "data['NO2'].fillna(method='ffill', inplace=True)\n",
    "data['NOx'].fillna(method='ffill', inplace=True)\n",
    "data['NH3'].fillna(method='bfill', inplace=True)\n",
    "data['CO'].fillna(method='ffill', inplace=True)\n",
    "data['SO2'].fillna(method='bfill', inplace=True)\n",
    "data['O3'].fillna(method='bfill', inplace=True)\n",
    "data['Benzene'].fillna(method='ffill', inplace=True)\n",
    "data['Toluene'].fillna(method='ffill', inplace=True)\n",
    "data['Xylene'].fillna(method='ffill', inplace=True)\n",
    "data['AQI'].fillna(method='bfill', inplace=True)\n",
    "data['Air-quality'].fillna(method='bfill', inplace=True)"
   ]
  },
  {
   "cell_type": "code",
   "execution_count": 36,
   "id": "5645ecda",
   "metadata": {},
   "outputs": [
    {
     "data": {
      "text/html": [
       "<div>\n",
       "<style scoped>\n",
       "    .dataframe tbody tr th:only-of-type {\n",
       "        vertical-align: middle;\n",
       "    }\n",
       "\n",
       "    .dataframe tbody tr th {\n",
       "        vertical-align: top;\n",
       "    }\n",
       "\n",
       "    .dataframe thead th {\n",
       "        text-align: right;\n",
       "    }\n",
       "</style>\n",
       "<table border=\"1\" class=\"dataframe\">\n",
       "  <thead>\n",
       "    <tr style=\"text-align: right;\">\n",
       "      <th></th>\n",
       "      <th>City</th>\n",
       "      <th>Date</th>\n",
       "      <th>PM2.5</th>\n",
       "      <th>PM10</th>\n",
       "      <th>NO</th>\n",
       "      <th>NO2</th>\n",
       "      <th>NOx</th>\n",
       "      <th>NH3</th>\n",
       "      <th>CO</th>\n",
       "      <th>SO2</th>\n",
       "      <th>O3</th>\n",
       "      <th>Benzene</th>\n",
       "      <th>Toluene</th>\n",
       "      <th>Xylene</th>\n",
       "      <th>AQI</th>\n",
       "      <th>Air-quality</th>\n",
       "    </tr>\n",
       "  </thead>\n",
       "  <tbody>\n",
       "    <tr>\n",
       "      <th>0</th>\n",
       "      <td>Ahmedabad</td>\n",
       "      <td>01-01-2015</td>\n",
       "      <td>73.24</td>\n",
       "      <td>141.54</td>\n",
       "      <td>0.92</td>\n",
       "      <td>18.22</td>\n",
       "      <td>17.15</td>\n",
       "      <td>26.64</td>\n",
       "      <td>0.92</td>\n",
       "      <td>27.64</td>\n",
       "      <td>133.36</td>\n",
       "      <td>0.00</td>\n",
       "      <td>0.02</td>\n",
       "      <td>0.00</td>\n",
       "      <td>209.0</td>\n",
       "      <td>Poor</td>\n",
       "    </tr>\n",
       "    <tr>\n",
       "      <th>1</th>\n",
       "      <td>Ahmedabad</td>\n",
       "      <td>02-01-2015</td>\n",
       "      <td>73.24</td>\n",
       "      <td>141.54</td>\n",
       "      <td>0.97</td>\n",
       "      <td>15.69</td>\n",
       "      <td>16.46</td>\n",
       "      <td>26.64</td>\n",
       "      <td>0.97</td>\n",
       "      <td>24.55</td>\n",
       "      <td>34.06</td>\n",
       "      <td>3.68</td>\n",
       "      <td>5.50</td>\n",
       "      <td>3.77</td>\n",
       "      <td>209.0</td>\n",
       "      <td>Poor</td>\n",
       "    </tr>\n",
       "    <tr>\n",
       "      <th>2</th>\n",
       "      <td>Ahmedabad</td>\n",
       "      <td>03-01-2015</td>\n",
       "      <td>73.24</td>\n",
       "      <td>141.54</td>\n",
       "      <td>17.40</td>\n",
       "      <td>19.30</td>\n",
       "      <td>29.70</td>\n",
       "      <td>26.64</td>\n",
       "      <td>17.40</td>\n",
       "      <td>29.07</td>\n",
       "      <td>30.70</td>\n",
       "      <td>6.80</td>\n",
       "      <td>16.40</td>\n",
       "      <td>2.25</td>\n",
       "      <td>209.0</td>\n",
       "      <td>Poor</td>\n",
       "    </tr>\n",
       "    <tr>\n",
       "      <th>3</th>\n",
       "      <td>Ahmedabad</td>\n",
       "      <td>04-01-2015</td>\n",
       "      <td>73.24</td>\n",
       "      <td>141.54</td>\n",
       "      <td>1.70</td>\n",
       "      <td>18.48</td>\n",
       "      <td>17.97</td>\n",
       "      <td>26.64</td>\n",
       "      <td>1.70</td>\n",
       "      <td>18.59</td>\n",
       "      <td>36.08</td>\n",
       "      <td>4.43</td>\n",
       "      <td>10.14</td>\n",
       "      <td>1.00</td>\n",
       "      <td>209.0</td>\n",
       "      <td>Poor</td>\n",
       "    </tr>\n",
       "    <tr>\n",
       "      <th>4</th>\n",
       "      <td>Ahmedabad</td>\n",
       "      <td>05-01-2015</td>\n",
       "      <td>73.24</td>\n",
       "      <td>141.54</td>\n",
       "      <td>22.10</td>\n",
       "      <td>21.42</td>\n",
       "      <td>37.76</td>\n",
       "      <td>26.64</td>\n",
       "      <td>22.10</td>\n",
       "      <td>39.33</td>\n",
       "      <td>39.31</td>\n",
       "      <td>7.01</td>\n",
       "      <td>18.89</td>\n",
       "      <td>2.78</td>\n",
       "      <td>209.0</td>\n",
       "      <td>Poor</td>\n",
       "    </tr>\n",
       "  </tbody>\n",
       "</table>\n",
       "</div>"
      ],
      "text/plain": [
       "        City        Date  PM2.5    PM10     NO    NO2    NOx    NH3     CO  \\\n",
       "0  Ahmedabad  01-01-2015  73.24  141.54   0.92  18.22  17.15  26.64   0.92   \n",
       "1  Ahmedabad  02-01-2015  73.24  141.54   0.97  15.69  16.46  26.64   0.97   \n",
       "2  Ahmedabad  03-01-2015  73.24  141.54  17.40  19.30  29.70  26.64  17.40   \n",
       "3  Ahmedabad  04-01-2015  73.24  141.54   1.70  18.48  17.97  26.64   1.70   \n",
       "4  Ahmedabad  05-01-2015  73.24  141.54  22.10  21.42  37.76  26.64  22.10   \n",
       "\n",
       "     SO2      O3  Benzene  Toluene  Xylene    AQI Air-quality  \n",
       "0  27.64  133.36     0.00     0.02    0.00  209.0        Poor  \n",
       "1  24.55   34.06     3.68     5.50    3.77  209.0        Poor  \n",
       "2  29.07   30.70     6.80    16.40    2.25  209.0        Poor  \n",
       "3  18.59   36.08     4.43    10.14    1.00  209.0        Poor  \n",
       "4  39.33   39.31     7.01    18.89    2.78  209.0        Poor  "
      ]
     },
     "execution_count": 36,
     "metadata": {},
     "output_type": "execute_result"
    }
   ],
   "source": [
    "data.head()"
   ]
  },
  {
   "cell_type": "code",
   "execution_count": 37,
   "id": "46198bc8",
   "metadata": {},
   "outputs": [
    {
     "data": {
      "text/plain": [
       "City           0\n",
       "Date           0\n",
       "PM2.5          0\n",
       "PM10           0\n",
       "NO             0\n",
       "NO2            0\n",
       "NOx            0\n",
       "NH3            0\n",
       "CO             0\n",
       "SO2            0\n",
       "O3             0\n",
       "Benzene        0\n",
       "Toluene        0\n",
       "Xylene         0\n",
       "AQI            0\n",
       "Air-quality    0\n",
       "dtype: int64"
      ]
     },
     "execution_count": 37,
     "metadata": {},
     "output_type": "execute_result"
    }
   ],
   "source": [
    "data.isnull().sum()"
   ]
  },
  {
   "cell_type": "code",
   "execution_count": 38,
   "id": "73728fe8",
   "metadata": {},
   "outputs": [],
   "source": [
    "data = data.drop(['Date','Xylene'], axis=1)"
   ]
  },
  {
   "cell_type": "code",
   "execution_count": 39,
   "id": "dd44ddc7",
   "metadata": {},
   "outputs": [],
   "source": [
    "Benglore_data_mask = data['City'] == 'Bengaluru'\n",
    "Banglore_data = data[Benglore_data_mask]\n",
    "Delhi_data_mask = data['City'] == 'Delhi'\n",
    "Delhi_data = data[Delhi_data_mask]\n",
    "Hydrabad_data_mask = data['City'] == 'Hyderabad'\n",
    "Hydrabad_data = data[Hydrabad_data_mask]"
   ]
  },
  {
   "cell_type": "code",
   "execution_count": 40,
   "id": "3486921e",
   "metadata": {},
   "outputs": [
    {
     "data": {
      "text/plain": [
       "(2009, 14)"
      ]
     },
     "execution_count": 40,
     "metadata": {},
     "output_type": "execute_result"
    }
   ],
   "source": [
    "Banglore_data.shape"
   ]
  },
  {
   "cell_type": "code",
   "execution_count": 41,
   "id": "5d81ae9a",
   "metadata": {},
   "outputs": [
    {
     "data": {
      "text/html": [
       "<div>\n",
       "<style scoped>\n",
       "    .dataframe tbody tr th:only-of-type {\n",
       "        vertical-align: middle;\n",
       "    }\n",
       "\n",
       "    .dataframe tbody tr th {\n",
       "        vertical-align: top;\n",
       "    }\n",
       "\n",
       "    .dataframe thead th {\n",
       "        text-align: right;\n",
       "    }\n",
       "</style>\n",
       "<table border=\"1\" class=\"dataframe\">\n",
       "  <thead>\n",
       "    <tr style=\"text-align: right;\">\n",
       "      <th></th>\n",
       "      <th>City</th>\n",
       "      <th>PM2.5</th>\n",
       "      <th>PM10</th>\n",
       "      <th>NO</th>\n",
       "      <th>NO2</th>\n",
       "      <th>NOx</th>\n",
       "      <th>NH3</th>\n",
       "      <th>CO</th>\n",
       "      <th>SO2</th>\n",
       "      <th>O3</th>\n",
       "      <th>Benzene</th>\n",
       "      <th>Toluene</th>\n",
       "      <th>AQI</th>\n",
       "      <th>Air-quality</th>\n",
       "    </tr>\n",
       "  </thead>\n",
       "  <tbody>\n",
       "    <tr>\n",
       "      <th>4294</th>\n",
       "      <td>Bengaluru</td>\n",
       "      <td>30.65</td>\n",
       "      <td>70.46</td>\n",
       "      <td>3.26</td>\n",
       "      <td>17.33</td>\n",
       "      <td>10.88</td>\n",
       "      <td>20.36</td>\n",
       "      <td>0.33</td>\n",
       "      <td>3.54</td>\n",
       "      <td>10.73</td>\n",
       "      <td>0.56</td>\n",
       "      <td>4.64</td>\n",
       "      <td>91.0</td>\n",
       "      <td>Satisfactory</td>\n",
       "    </tr>\n",
       "    <tr>\n",
       "      <th>4295</th>\n",
       "      <td>Bengaluru</td>\n",
       "      <td>30.65</td>\n",
       "      <td>70.46</td>\n",
       "      <td>6.05</td>\n",
       "      <td>19.73</td>\n",
       "      <td>14.14</td>\n",
       "      <td>23.74</td>\n",
       "      <td>1.35</td>\n",
       "      <td>3.97</td>\n",
       "      <td>22.77</td>\n",
       "      <td>0.65</td>\n",
       "      <td>5.31</td>\n",
       "      <td>91.0</td>\n",
       "      <td>Satisfactory</td>\n",
       "    </tr>\n",
       "    <tr>\n",
       "      <th>4296</th>\n",
       "      <td>Bengaluru</td>\n",
       "      <td>30.65</td>\n",
       "      <td>70.46</td>\n",
       "      <td>11.91</td>\n",
       "      <td>19.88</td>\n",
       "      <td>20.72</td>\n",
       "      <td>4.32</td>\n",
       "      <td>17.40</td>\n",
       "      <td>13.61</td>\n",
       "      <td>12.03</td>\n",
       "      <td>0.53</td>\n",
       "      <td>19.25</td>\n",
       "      <td>91.0</td>\n",
       "      <td>Satisfactory</td>\n",
       "    </tr>\n",
       "    <tr>\n",
       "      <th>4297</th>\n",
       "      <td>Bengaluru</td>\n",
       "      <td>30.65</td>\n",
       "      <td>70.46</td>\n",
       "      <td>7.45</td>\n",
       "      <td>21.61</td>\n",
       "      <td>16.88</td>\n",
       "      <td>0.87</td>\n",
       "      <td>5.05</td>\n",
       "      <td>6.52</td>\n",
       "      <td>17.70</td>\n",
       "      <td>0.55</td>\n",
       "      <td>7.47</td>\n",
       "      <td>91.0</td>\n",
       "      <td>Satisfactory</td>\n",
       "    </tr>\n",
       "    <tr>\n",
       "      <th>4298</th>\n",
       "      <td>Bengaluru</td>\n",
       "      <td>30.65</td>\n",
       "      <td>70.46</td>\n",
       "      <td>9.52</td>\n",
       "      <td>22.17</td>\n",
       "      <td>21.76</td>\n",
       "      <td>31.38</td>\n",
       "      <td>1.83</td>\n",
       "      <td>4.71</td>\n",
       "      <td>12.72</td>\n",
       "      <td>0.40</td>\n",
       "      <td>4.36</td>\n",
       "      <td>91.0</td>\n",
       "      <td>Satisfactory</td>\n",
       "    </tr>\n",
       "  </tbody>\n",
       "</table>\n",
       "</div>"
      ],
      "text/plain": [
       "           City  PM2.5   PM10     NO    NO2    NOx    NH3     CO    SO2  \\\n",
       "4294  Bengaluru  30.65  70.46   3.26  17.33  10.88  20.36   0.33   3.54   \n",
       "4295  Bengaluru  30.65  70.46   6.05  19.73  14.14  23.74   1.35   3.97   \n",
       "4296  Bengaluru  30.65  70.46  11.91  19.88  20.72   4.32  17.40  13.61   \n",
       "4297  Bengaluru  30.65  70.46   7.45  21.61  16.88   0.87   5.05   6.52   \n",
       "4298  Bengaluru  30.65  70.46   9.52  22.17  21.76  31.38   1.83   4.71   \n",
       "\n",
       "         O3  Benzene  Toluene   AQI   Air-quality  \n",
       "4294  10.73     0.56     4.64  91.0  Satisfactory  \n",
       "4295  22.77     0.65     5.31  91.0  Satisfactory  \n",
       "4296  12.03     0.53    19.25  91.0  Satisfactory  \n",
       "4297  17.70     0.55     7.47  91.0  Satisfactory  \n",
       "4298  12.72     0.40     4.36  91.0  Satisfactory  "
      ]
     },
     "execution_count": 41,
     "metadata": {},
     "output_type": "execute_result"
    }
   ],
   "source": [
    "Banglore_data.head()"
   ]
  },
  {
   "cell_type": "code",
   "execution_count": 42,
   "id": "b64a8343",
   "metadata": {},
   "outputs": [
    {
     "data": {
      "image/png": "[encoded data removed]",
      "text/plain": [
       "<Figure size 1080x720 with 2 Axes>"
      ]
     },
     "metadata": {
      "needs_background": "light"
     },
     "output_type": "display_data"
    }
   ],
   "source": [
    "plt.figure(figsize=(15,10))\n",
    "sns.heatmap(Banglore_data.corr(),annot=True)\n",
    "plt.show();"
   ]
  },
  {
   "cell_type": "code",
   "execution_count": 43,
   "id": "62f83bc2",
   "metadata": {},
   "outputs": [],
   "source": [
    "Qt_1 = Banglore_data[['NO','PM2.5']].quantile(0.25)\n",
    "Qt_3 = Banglore_data[['NO','PM2.5']].quantile(0.75)\n",
    "\n",
    "\n",
    "i_q_r = Qt_3 - Qt_1\n",
    "low_bound = Qt_1 - (1.5*i_q_r)\n",
    "up_bound = Qt_3 + (1.5*i_q_r)\n",
    "\n",
    "Banglore_data = Banglore_data[(Banglore_data['NO'] >= low_bound['NO']) & (Banglore_data['NO'] <=up_bound['NO'])]\n",
    "Banglore_data = Banglore_data[(Banglore_data['PM2.5'] >= low_bound['PM2.5']) & (Banglore_data['PM2.5'] <=up_bound['PM2.5'])]"
   ]
  },
  {
   "cell_type": "code",
   "execution_count": 44,
   "id": "dc8b327b",
   "metadata": {},
   "outputs": [
    {
     "data": {
      "text/plain": [
       "(1843, 14)"
      ]
     },
     "execution_count": 44,
     "metadata": {},
     "output_type": "execute_result"
    }
   ],
   "source": [
    "Banglore_data.shape"
   ]
  },
  {
   "cell_type": "code",
   "execution_count": 45,
   "id": "0e45545d",
   "metadata": {},
   "outputs": [
    {
     "data": {
      "image/png": "[encoded data removed]",
      "text/plain": [
       "<Figure size 432x288 with 1 Axes>"
      ]
     },
     "metadata": {
      "needs_background": "light"
     },
     "output_type": "display_data"
    }
   ],
   "source": [
    "value_counts = Banglore_data['Air-quality'].value_counts()\n",
    "\n",
    "# Creating a bar plot to visualize the distribution of Air Quality categories in Bengalore.\n",
    "plt.bar(value_counts.index, value_counts.values)\n",
    "\n",
    "# Adding a title to the plot indicating the variable being visualized and the city.\n",
    "plt.title(f\"{'Air_quality'} Value Counts of Bangalore\")\n",
    "\n",
    "# Adding labels to the x and y axes.\n",
    "plt.xlabel('Air Quality')\n",
    "plt.ylabel(\"Count\")\n",
    "\n",
    "# Adding text annotations to each bar with the count of occurrences.\n",
    "for i, v in enumerate(value_counts.values):\n",
    "    plt.text(i, v, str(v), color='black', ha='center')\n",
    "\n",
    "# Displaying the bar plot.\n",
    "plt.show()"
   ]
  },
  {
   "cell_type": "code",
   "execution_count": 46,
   "id": "f68f8158",
   "metadata": {},
   "outputs": [],
   "source": [
    "from sklearn.preprocessing import LabelEncoder\n",
    "# Creating a LabelEncoder object.\n",
    "lbl_enc = LabelEncoder()\n",
    "\n",
    "# Applying label encoding to the 'Air_quality' column in the 'Bengalore' data.\n",
    "Banglore_data['Air-quality'] = lbl_enc.fit_transform(Banglore_data['Air-quality'])"
   ]
  },
  {
   "cell_type": "code",
   "execution_count": 47,
   "id": "87a0276c",
   "metadata": {},
   "outputs": [
    {
     "data": {
      "text/html": [
       "<div>\n",
       "<style scoped>\n",
       "    .dataframe tbody tr th:only-of-type {\n",
       "        vertical-align: middle;\n",
       "    }\n",
       "\n",
       "    .dataframe tbody tr th {\n",
       "        vertical-align: top;\n",
       "    }\n",
       "\n",
       "    .dataframe thead th {\n",
       "        text-align: right;\n",
       "    }\n",
       "</style>\n",
       "<table border=\"1\" class=\"dataframe\">\n",
       "  <thead>\n",
       "    <tr style=\"text-align: right;\">\n",
       "      <th></th>\n",
       "      <th>City</th>\n",
       "      <th>PM2.5</th>\n",
       "      <th>PM10</th>\n",
       "      <th>NO</th>\n",
       "      <th>NO2</th>\n",
       "      <th>NOx</th>\n",
       "      <th>NH3</th>\n",
       "      <th>CO</th>\n",
       "      <th>SO2</th>\n",
       "      <th>O3</th>\n",
       "      <th>Benzene</th>\n",
       "      <th>Toluene</th>\n",
       "      <th>AQI</th>\n",
       "      <th>Air-quality</th>\n",
       "    </tr>\n",
       "  </thead>\n",
       "  <tbody>\n",
       "    <tr>\n",
       "      <th>4294</th>\n",
       "      <td>Bengaluru</td>\n",
       "      <td>30.65</td>\n",
       "      <td>70.46</td>\n",
       "      <td>3.26</td>\n",
       "      <td>17.33</td>\n",
       "      <td>10.88</td>\n",
       "      <td>20.36</td>\n",
       "      <td>0.33</td>\n",
       "      <td>3.54</td>\n",
       "      <td>10.73</td>\n",
       "      <td>0.56</td>\n",
       "      <td>4.64</td>\n",
       "      <td>91.0</td>\n",
       "      <td>3</td>\n",
       "    </tr>\n",
       "    <tr>\n",
       "      <th>4295</th>\n",
       "      <td>Bengaluru</td>\n",
       "      <td>30.65</td>\n",
       "      <td>70.46</td>\n",
       "      <td>6.05</td>\n",
       "      <td>19.73</td>\n",
       "      <td>14.14</td>\n",
       "      <td>23.74</td>\n",
       "      <td>1.35</td>\n",
       "      <td>3.97</td>\n",
       "      <td>22.77</td>\n",
       "      <td>0.65</td>\n",
       "      <td>5.31</td>\n",
       "      <td>91.0</td>\n",
       "      <td>3</td>\n",
       "    </tr>\n",
       "    <tr>\n",
       "      <th>4296</th>\n",
       "      <td>Bengaluru</td>\n",
       "      <td>30.65</td>\n",
       "      <td>70.46</td>\n",
       "      <td>11.91</td>\n",
       "      <td>19.88</td>\n",
       "      <td>20.72</td>\n",
       "      <td>4.32</td>\n",
       "      <td>17.40</td>\n",
       "      <td>13.61</td>\n",
       "      <td>12.03</td>\n",
       "      <td>0.53</td>\n",
       "      <td>19.25</td>\n",
       "      <td>91.0</td>\n",
       "      <td>3</td>\n",
       "    </tr>\n",
       "    <tr>\n",
       "      <th>4297</th>\n",
       "      <td>Bengaluru</td>\n",
       "      <td>30.65</td>\n",
       "      <td>70.46</td>\n",
       "      <td>7.45</td>\n",
       "      <td>21.61</td>\n",
       "      <td>16.88</td>\n",
       "      <td>0.87</td>\n",
       "      <td>5.05</td>\n",
       "      <td>6.52</td>\n",
       "      <td>17.70</td>\n",
       "      <td>0.55</td>\n",
       "      <td>7.47</td>\n",
       "      <td>91.0</td>\n",
       "      <td>3</td>\n",
       "    </tr>\n",
       "    <tr>\n",
       "      <th>4298</th>\n",
       "      <td>Bengaluru</td>\n",
       "      <td>30.65</td>\n",
       "      <td>70.46</td>\n",
       "      <td>9.52</td>\n",
       "      <td>22.17</td>\n",
       "      <td>21.76</td>\n",
       "      <td>31.38</td>\n",
       "      <td>1.83</td>\n",
       "      <td>4.71</td>\n",
       "      <td>12.72</td>\n",
       "      <td>0.40</td>\n",
       "      <td>4.36</td>\n",
       "      <td>91.0</td>\n",
       "      <td>3</td>\n",
       "    </tr>\n",
       "  </tbody>\n",
       "</table>\n",
       "</div>"
      ],
      "text/plain": [
       "           City  PM2.5   PM10     NO    NO2    NOx    NH3     CO    SO2  \\\n",
       "4294  Bengaluru  30.65  70.46   3.26  17.33  10.88  20.36   0.33   3.54   \n",
       "4295  Bengaluru  30.65  70.46   6.05  19.73  14.14  23.74   1.35   3.97   \n",
       "4296  Bengaluru  30.65  70.46  11.91  19.88  20.72   4.32  17.40  13.61   \n",
       "4297  Bengaluru  30.65  70.46   7.45  21.61  16.88   0.87   5.05   6.52   \n",
       "4298  Bengaluru  30.65  70.46   9.52  22.17  21.76  31.38   1.83   4.71   \n",
       "\n",
       "         O3  Benzene  Toluene   AQI  Air-quality  \n",
       "4294  10.73     0.56     4.64  91.0            3  \n",
       "4295  22.77     0.65     5.31  91.0            3  \n",
       "4296  12.03     0.53    19.25  91.0            3  \n",
       "4297  17.70     0.55     7.47  91.0            3  \n",
       "4298  12.72     0.40     4.36  91.0            3  "
      ]
     },
     "execution_count": 47,
     "metadata": {},
     "output_type": "execute_result"
    }
   ],
   "source": [
    "Banglore_data.head()"
   ]
  },
  {
   "cell_type": "code",
   "execution_count": 48,
   "id": "80978c5f",
   "metadata": {},
   "outputs": [],
   "source": [
    "X = Banglore_data.drop(['AQI', 'City'], axis=1)\n",
    "Y = Banglore_data['AQI']"
   ]
  },
  {
   "cell_type": "code",
   "execution_count": 49,
   "id": "d7529881",
   "metadata": {},
   "outputs": [],
   "source": [
    "from sklearn.ensemble import ExtraTreesClassifier\n",
    "extra_tree_forest = ExtraTreesClassifier(n_estimators = 5, criterion ='entropy', max_features = 12)\n",
    "\n",
    "# Training the model\n",
    "extra_tree_forest.fit(X, Y)\n",
    "\n",
    "# Computing the importance of each feature\n",
    "feature_importance = extra_tree_forest.feature_importances_\n",
    "\n",
    "# Normalizing the individual importances\n",
    "feature_importance_normalized = np.std([tree.feature_importances_ for tree in extra_tree_forest.estimators_], axis = 0)"
   ]
  },
  {
   "cell_type": "code",
   "execution_count": 50,
   "id": "76e6fa2e",
   "metadata": {},
   "outputs": [],
   "source": [
    "X_Train, X_Test, Y_Train, Y_test = train_test_split(X, Y, test_size=0.2)"
   ]
  },
  {
   "cell_type": "code",
   "execution_count": 51,
   "id": "a23a856d",
   "metadata": {},
   "outputs": [
    {
     "name": "stdout",
     "output_type": "stream",
     "text": [
      "Accuracy: 0.07859078590785908\n",
      "Precision: 0.030320312027629095\n",
      "Recall: 0.07859078590785908\n",
      "F1 SCore: 0.040415976385029626\n"
     ]
    }
   ],
   "source": [
    "rfm = RandomForestClassifier(max_depth=5, n_estimators=5)\n",
    "rfm.fit(X_Train, Y_Train)\n",
    "\n",
    "# Making Prediction.\n",
    "y_pred_ben = rfm.predict(X_Test)\n",
    "\n",
    "# Calculating metrics for evaluating the model's performance on the test data.\n",
    "acc_ben = accuracy_score(Y_test, y_pred_ben)\n",
    "f1_ben = f1_score(Y_test, y_pred_ben, average='weighted')\n",
    "recall_ben = recall_score(Y_test, y_pred_ben, average= 'weighted')\n",
    "precision_ben = precision_score(Y_test, y_pred_ben, average= 'weighted')\n",
    "\n",
    "# Displaying the evaluation metrics.\n",
    "print(\"Accuracy:\", acc_ben)\n",
    "print('Precision:', precision_ben)\n",
    "print('Recall:', recall_ben)\n",
    "print('F1 SCore:', f1_ben)"
   ]
  },
  {
   "cell_type": "code",
   "execution_count": 52,
   "id": "bb4fadd0",
   "metadata": {},
   "outputs": [
    {
     "data": {
      "text/plain": [
       "(2009, 14)"
      ]
     },
     "execution_count": 52,
     "metadata": {},
     "output_type": "execute_result"
    }
   ],
   "source": [
    "Delhi_data.shape"
   ]
  },
  {
   "cell_type": "code",
   "execution_count": 53,
   "id": "e35cc36c",
   "metadata": {},
   "outputs": [
    {
     "data": {
      "text/html": [
       "<div>\n",
       "<style scoped>\n",
       "    .dataframe tbody tr th:only-of-type {\n",
       "        vertical-align: middle;\n",
       "    }\n",
       "\n",
       "    .dataframe tbody tr th {\n",
       "        vertical-align: top;\n",
       "    }\n",
       "\n",
       "    .dataframe thead th {\n",
       "        text-align: right;\n",
       "    }\n",
       "</style>\n",
       "<table border=\"1\" class=\"dataframe\">\n",
       "  <thead>\n",
       "    <tr style=\"text-align: right;\">\n",
       "      <th></th>\n",
       "      <th>City</th>\n",
       "      <th>PM2.5</th>\n",
       "      <th>PM10</th>\n",
       "      <th>NO</th>\n",
       "      <th>NO2</th>\n",
       "      <th>NOx</th>\n",
       "      <th>NH3</th>\n",
       "      <th>CO</th>\n",
       "      <th>SO2</th>\n",
       "      <th>O3</th>\n",
       "      <th>Benzene</th>\n",
       "      <th>Toluene</th>\n",
       "      <th>AQI</th>\n",
       "      <th>Air-quality</th>\n",
       "    </tr>\n",
       "  </thead>\n",
       "  <tbody>\n",
       "    <tr>\n",
       "      <th>10229</th>\n",
       "      <td>Delhi</td>\n",
       "      <td>313.22</td>\n",
       "      <td>607.98</td>\n",
       "      <td>69.16</td>\n",
       "      <td>36.39</td>\n",
       "      <td>110.59</td>\n",
       "      <td>33.85</td>\n",
       "      <td>15.20</td>\n",
       "      <td>9.25</td>\n",
       "      <td>41.68</td>\n",
       "      <td>14.36</td>\n",
       "      <td>24.86</td>\n",
       "      <td>472.0</td>\n",
       "      <td>Severe</td>\n",
       "    </tr>\n",
       "    <tr>\n",
       "      <th>10230</th>\n",
       "      <td>Delhi</td>\n",
       "      <td>186.18</td>\n",
       "      <td>269.55</td>\n",
       "      <td>62.09</td>\n",
       "      <td>32.87</td>\n",
       "      <td>88.14</td>\n",
       "      <td>31.83</td>\n",
       "      <td>9.54</td>\n",
       "      <td>6.65</td>\n",
       "      <td>29.97</td>\n",
       "      <td>10.55</td>\n",
       "      <td>20.09</td>\n",
       "      <td>454.0</td>\n",
       "      <td>Severe</td>\n",
       "    </tr>\n",
       "    <tr>\n",
       "      <th>10231</th>\n",
       "      <td>Delhi</td>\n",
       "      <td>87.18</td>\n",
       "      <td>131.90</td>\n",
       "      <td>25.73</td>\n",
       "      <td>30.31</td>\n",
       "      <td>47.95</td>\n",
       "      <td>69.55</td>\n",
       "      <td>10.61</td>\n",
       "      <td>2.65</td>\n",
       "      <td>19.71</td>\n",
       "      <td>3.91</td>\n",
       "      <td>10.23</td>\n",
       "      <td>143.0</td>\n",
       "      <td>Moderate</td>\n",
       "    </tr>\n",
       "    <tr>\n",
       "      <th>10232</th>\n",
       "      <td>Delhi</td>\n",
       "      <td>151.84</td>\n",
       "      <td>241.84</td>\n",
       "      <td>25.01</td>\n",
       "      <td>36.91</td>\n",
       "      <td>48.62</td>\n",
       "      <td>130.36</td>\n",
       "      <td>11.54</td>\n",
       "      <td>4.63</td>\n",
       "      <td>25.36</td>\n",
       "      <td>4.26</td>\n",
       "      <td>9.71</td>\n",
       "      <td>319.0</td>\n",
       "      <td>Very Poor</td>\n",
       "    </tr>\n",
       "    <tr>\n",
       "      <th>10233</th>\n",
       "      <td>Delhi</td>\n",
       "      <td>146.60</td>\n",
       "      <td>219.13</td>\n",
       "      <td>14.01</td>\n",
       "      <td>34.92</td>\n",
       "      <td>38.25</td>\n",
       "      <td>122.88</td>\n",
       "      <td>9.20</td>\n",
       "      <td>3.33</td>\n",
       "      <td>23.20</td>\n",
       "      <td>2.80</td>\n",
       "      <td>6.21</td>\n",
       "      <td>325.0</td>\n",
       "      <td>Very Poor</td>\n",
       "    </tr>\n",
       "  </tbody>\n",
       "</table>\n",
       "</div>"
      ],
      "text/plain": [
       "        City   PM2.5    PM10     NO    NO2     NOx     NH3     CO   SO2  \\\n",
       "10229  Delhi  313.22  607.98  69.16  36.39  110.59   33.85  15.20  9.25   \n",
       "10230  Delhi  186.18  269.55  62.09  32.87   88.14   31.83   9.54  6.65   \n",
       "10231  Delhi   87.18  131.90  25.73  30.31   47.95   69.55  10.61  2.65   \n",
       "10232  Delhi  151.84  241.84  25.01  36.91   48.62  130.36  11.54  4.63   \n",
       "10233  Delhi  146.60  219.13  14.01  34.92   38.25  122.88   9.20  3.33   \n",
       "\n",
       "          O3  Benzene  Toluene    AQI Air-quality  \n",
       "10229  41.68    14.36    24.86  472.0      Severe  \n",
       "10230  29.97    10.55    20.09  454.0      Severe  \n",
       "10231  19.71     3.91    10.23  143.0    Moderate  \n",
       "10232  25.36     4.26     9.71  319.0   Very Poor  \n",
       "10233  23.20     2.80     6.21  325.0   Very Poor  "
      ]
     },
     "execution_count": 53,
     "metadata": {},
     "output_type": "execute_result"
    }
   ],
   "source": [
    "Delhi_data.head()"
   ]
  },
  {
   "cell_type": "code",
   "execution_count": 54,
   "id": "66a55e24",
   "metadata": {},
   "outputs": [
    {
     "name": "stdout",
     "output_type": "stream",
     "text": [
      "        City   PM2.5    PM10     NO    NO2     NOx     NH3     CO    SO2  \\\n",
      "10229  Delhi  313.22  607.98  69.16  36.39  110.59   33.85  15.20   9.25   \n",
      "10230  Delhi  186.18  269.55  62.09  32.87   88.14   31.83   9.54   6.65   \n",
      "10231  Delhi   87.18  131.90  25.73  30.31   47.95   69.55  10.61   2.65   \n",
      "10232  Delhi  151.84  241.84  25.01  36.91   48.62  130.36  11.54   4.63   \n",
      "10233  Delhi  146.60  219.13  14.01  34.92   38.25  122.88   9.20   3.33   \n",
      "...      ...     ...     ...    ...    ...     ...     ...    ...    ...   \n",
      "12233  Delhi   39.80  155.94  10.88  21.46   22.47   31.43   0.87  10.38   \n",
      "12234  Delhi   59.52  308.65  12.67  21.60   23.86   29.27   0.94  10.70   \n",
      "12235  Delhi   44.86  184.12  10.50  21.57   21.94   27.97   0.88  11.58   \n",
      "12236  Delhi   39.80   91.98   5.99  17.96   15.44   28.48   0.84  10.51   \n",
      "12237  Delhi   54.01  128.66   6.33  21.05   16.81   29.06   0.97  11.15   \n",
      "\n",
      "          O3  Benzene  Toluene    AQI Air-quality  \n",
      "10229  41.68    14.36    24.86  472.0      Severe  \n",
      "10230  29.97    10.55    20.09  454.0      Severe  \n",
      "10231  19.71     3.91    10.23  143.0    Moderate  \n",
      "10232  25.36     4.26     9.71  319.0   Very Poor  \n",
      "10233  23.20     2.80     6.21  325.0   Very Poor  \n",
      "...      ...      ...      ...    ...         ...  \n",
      "12233  18.88     1.69    19.99  112.0    Moderate  \n",
      "12234  18.05     1.71    25.13  196.0    Moderate  \n",
      "12235  26.61     2.13    23.80  233.0        Poor  \n",
      "12236  37.29     1.57    16.37  114.0    Moderate  \n",
      "12237  29.73     2.03    23.57  101.0    Moderate  \n",
      "\n",
      "[2009 rows x 14 columns]\n"
     ]
    }
   ],
   "source": [
    "print(Delhi_data)"
   ]
  },
  {
   "cell_type": "code",
   "execution_count": 55,
   "id": "f4ce1a36",
   "metadata": {},
   "outputs": [
    {
     "data": {
      "image/png": "[encoded data removed]",
      "text/plain": [
       "<Figure size 1080x720 with 2 Axes>"
      ]
     },
     "metadata": {
      "needs_background": "light"
     },
     "output_type": "display_data"
    }
   ],
   "source": [
    "# Creating a new figure with a specific size (15 inches in width and 10 inches in height).\n",
    "plt.figure(figsize=(15, 10))\n",
    "\n",
    "# Creating a heatmap of the correlation matrix for the 'Bengalore' data.\n",
    "# The 'corr()' method calculates the correlation between different columns in the DataFrame.\n",
    "# The 'annot=True' parameter adds the correlation values to the heatmap.\n",
    "sns.heatmap(Delhi_data.corr(), annot=True)\n",
    "\n",
    "# Displaying the heatmap.\n",
    "plt.show();"
   ]
  },
  {
   "cell_type": "code",
   "execution_count": 56,
   "id": "368f803b",
   "metadata": {},
   "outputs": [
    {
     "data": {
      "image/png": "[encoded data removed]",
      "text/plain": [
       "<Figure size 720x432 with 1 Axes>"
      ]
     },
     "metadata": {
      "needs_background": "light"
     },
     "output_type": "display_data"
    }
   ],
   "source": [
    "# Creating a new figure with a specific size (10 inches in width and 6 inches in height).\n",
    "plt.figure(figsize=(10, 6))\n",
    "\n",
    "# Creating a boxplot to visualize the distribution and identify outliers in the 'Bengalore' data.\n",
    "Delhi_data.boxplot()\n",
    "\n",
    "# Displaying the boxplot.\n",
    "plt.show();"
   ]
  },
  {
   "cell_type": "code",
   "execution_count": 57,
   "id": "30919421",
   "metadata": {},
   "outputs": [],
   "source": [
    "Qt_1 = Delhi_data[['NO', 'PM2.5']].quantile(0.25)\n",
    "Qt_3 = Delhi_data[['NO', 'PM2.5']].quantile(0.75)\n",
    "\n",
    "# Calculating the Interquartile Range (IQR) for the 'NO' and 'PM2.5' columns.\n",
    "i_q_r = Qt_3 - Qt_1\n",
    "\n",
    "# Calculating the lower and upper bounds for identifying outliers using the IQR method.\n",
    "low_bound = Qt_1 - (1.5 * i_q_r)\n",
    "up_bound = Qt_3 + (1.5 * i_q_r)\n",
    "\n",
    "# Removing outliers from the 'NO' column within the specified bounds.\n",
    "Delhi_data = Delhi_data[(Delhi_data['NO'] >= low_bound['NO']) & (Delhi_data['NO'] <= up_bound['NO'])]\n",
    "\n",
    "# Removing outliers from the 'PM2.5' column within the specified bounds.\n",
    "Delhi_data = Delhi_data[(Delhi_data['PM2.5'] >= low_bound['PM2.5']) & (Delhi_data['PM2.5'] <= up_bound['PM2.5'])]"
   ]
  },
  {
   "cell_type": "code",
   "execution_count": 58,
   "id": "36cd5c30",
   "metadata": {},
   "outputs": [
    {
     "data": {
      "text/html": [
       "<div>\n",
       "<style scoped>\n",
       "    .dataframe tbody tr th:only-of-type {\n",
       "        vertical-align: middle;\n",
       "    }\n",
       "\n",
       "    .dataframe tbody tr th {\n",
       "        vertical-align: top;\n",
       "    }\n",
       "\n",
       "    .dataframe thead th {\n",
       "        text-align: right;\n",
       "    }\n",
       "</style>\n",
       "<table border=\"1\" class=\"dataframe\">\n",
       "  <thead>\n",
       "    <tr style=\"text-align: right;\">\n",
       "      <th></th>\n",
       "      <th>City</th>\n",
       "      <th>PM2.5</th>\n",
       "      <th>PM10</th>\n",
       "      <th>NO</th>\n",
       "      <th>NO2</th>\n",
       "      <th>NOx</th>\n",
       "      <th>NH3</th>\n",
       "      <th>CO</th>\n",
       "      <th>SO2</th>\n",
       "      <th>O3</th>\n",
       "      <th>Benzene</th>\n",
       "      <th>Toluene</th>\n",
       "      <th>AQI</th>\n",
       "      <th>Air-quality</th>\n",
       "    </tr>\n",
       "  </thead>\n",
       "  <tbody>\n",
       "    <tr>\n",
       "      <th>10230</th>\n",
       "      <td>Delhi</td>\n",
       "      <td>186.18</td>\n",
       "      <td>269.55</td>\n",
       "      <td>62.09</td>\n",
       "      <td>32.87</td>\n",
       "      <td>88.14</td>\n",
       "      <td>31.83</td>\n",
       "      <td>9.54</td>\n",
       "      <td>6.65</td>\n",
       "      <td>29.97</td>\n",
       "      <td>10.55</td>\n",
       "      <td>20.09</td>\n",
       "      <td>454.0</td>\n",
       "      <td>Severe</td>\n",
       "    </tr>\n",
       "    <tr>\n",
       "      <th>10231</th>\n",
       "      <td>Delhi</td>\n",
       "      <td>87.18</td>\n",
       "      <td>131.90</td>\n",
       "      <td>25.73</td>\n",
       "      <td>30.31</td>\n",
       "      <td>47.95</td>\n",
       "      <td>69.55</td>\n",
       "      <td>10.61</td>\n",
       "      <td>2.65</td>\n",
       "      <td>19.71</td>\n",
       "      <td>3.91</td>\n",
       "      <td>10.23</td>\n",
       "      <td>143.0</td>\n",
       "      <td>Moderate</td>\n",
       "    </tr>\n",
       "    <tr>\n",
       "      <th>10232</th>\n",
       "      <td>Delhi</td>\n",
       "      <td>151.84</td>\n",
       "      <td>241.84</td>\n",
       "      <td>25.01</td>\n",
       "      <td>36.91</td>\n",
       "      <td>48.62</td>\n",
       "      <td>130.36</td>\n",
       "      <td>11.54</td>\n",
       "      <td>4.63</td>\n",
       "      <td>25.36</td>\n",
       "      <td>4.26</td>\n",
       "      <td>9.71</td>\n",
       "      <td>319.0</td>\n",
       "      <td>Very Poor</td>\n",
       "    </tr>\n",
       "    <tr>\n",
       "      <th>10233</th>\n",
       "      <td>Delhi</td>\n",
       "      <td>146.60</td>\n",
       "      <td>219.13</td>\n",
       "      <td>14.01</td>\n",
       "      <td>34.92</td>\n",
       "      <td>38.25</td>\n",
       "      <td>122.88</td>\n",
       "      <td>9.20</td>\n",
       "      <td>3.33</td>\n",
       "      <td>23.20</td>\n",
       "      <td>2.80</td>\n",
       "      <td>6.21</td>\n",
       "      <td>325.0</td>\n",
       "      <td>Very Poor</td>\n",
       "    </tr>\n",
       "    <tr>\n",
       "      <th>10234</th>\n",
       "      <td>Delhi</td>\n",
       "      <td>149.58</td>\n",
       "      <td>252.10</td>\n",
       "      <td>17.21</td>\n",
       "      <td>37.84</td>\n",
       "      <td>42.46</td>\n",
       "      <td>134.97</td>\n",
       "      <td>9.44</td>\n",
       "      <td>3.66</td>\n",
       "      <td>26.83</td>\n",
       "      <td>3.63</td>\n",
       "      <td>7.35</td>\n",
       "      <td>318.0</td>\n",
       "      <td>Very Poor</td>\n",
       "    </tr>\n",
       "  </tbody>\n",
       "</table>\n",
       "</div>"
      ],
      "text/plain": [
       "        City   PM2.5    PM10     NO    NO2    NOx     NH3     CO   SO2     O3  \\\n",
       "10230  Delhi  186.18  269.55  62.09  32.87  88.14   31.83   9.54  6.65  29.97   \n",
       "10231  Delhi   87.18  131.90  25.73  30.31  47.95   69.55  10.61  2.65  19.71   \n",
       "10232  Delhi  151.84  241.84  25.01  36.91  48.62  130.36  11.54  4.63  25.36   \n",
       "10233  Delhi  146.60  219.13  14.01  34.92  38.25  122.88   9.20  3.33  23.20   \n",
       "10234  Delhi  149.58  252.10  17.21  37.84  42.46  134.97   9.44  3.66  26.83   \n",
       "\n",
       "       Benzene  Toluene    AQI Air-quality  \n",
       "10230    10.55    20.09  454.0      Severe  \n",
       "10231     3.91    10.23  143.0    Moderate  \n",
       "10232     4.26     9.71  319.0   Very Poor  \n",
       "10233     2.80     6.21  325.0   Very Poor  \n",
       "10234     3.63     7.35  318.0   Very Poor  "
      ]
     },
     "execution_count": 58,
     "metadata": {},
     "output_type": "execute_result"
    }
   ],
   "source": [
    "Delhi_data.head()"
   ]
  },
  {
   "cell_type": "code",
   "execution_count": 59,
   "id": "25e4c809",
   "metadata": {},
   "outputs": [
    {
     "data": {
      "text/plain": [
       "(1836, 14)"
      ]
     },
     "execution_count": 59,
     "metadata": {},
     "output_type": "execute_result"
    }
   ],
   "source": [
    "Delhi_data.shape"
   ]
  },
  {
   "cell_type": "code",
   "execution_count": 60,
   "id": "ed35b5c0",
   "metadata": {},
   "outputs": [
    {
     "data": {
      "image/png": "[encoded data removed]",
      "text/plain": [
       "<Figure size 432x288 with 1 Axes>"
      ]
     },
     "metadata": {
      "needs_background": "light"
     },
     "output_type": "display_data"
    }
   ],
   "source": [
    "# Calculating the value counts of the 'Air_quality' column in the 'Bengalore' data.\n",
    "value_counts = Delhi_data['Air-quality'].value_counts()\n",
    "\n",
    "# Creating a bar plot to visualize the distribution of Air Quality categories in Bengalore.\n",
    "plt.bar(value_counts.index, value_counts.values)\n",
    "\n",
    "# Adding a title to the plot indicating the variable being visualized and the city.\n",
    "plt.title(f\"{'Air-quality'} Value Counts of Bangalore\")\n",
    "\n",
    "# Adding labels to the x and y axes.\n",
    "plt.xlabel('Air Quality')\n",
    "plt.ylabel(\"Count\")\n",
    "\n",
    "# Adding text annotations to each bar with the count of occurrences.\n",
    "for i, v in enumerate(value_counts.values):\n",
    "    plt.text(i, v, str(v), color='black', ha='center')\n",
    "\n",
    "# Displaying the bar plot.\n",
    "plt.show()"
   ]
  },
  {
   "cell_type": "code",
   "execution_count": 61,
   "id": "fce95ee2",
   "metadata": {},
   "outputs": [],
   "source": [
    "from sklearn.preprocessing import LabelEncoder\n",
    "# Creating a LabelEncoder object.\n",
    "lbl_enc = LabelEncoder()\n",
    "\n",
    "# Applying label encoding to the 'Air_quality' column in the 'Bengalore' data.\n",
    "Delhi_data['Air-quality'] = lbl_enc.fit_transform(Delhi_data['Air-quality'])"
   ]
  },
  {
   "cell_type": "code",
   "execution_count": 62,
   "id": "3ffdf086",
   "metadata": {},
   "outputs": [
    {
     "data": {
      "text/html": [
       "<div>\n",
       "<style scoped>\n",
       "    .dataframe tbody tr th:only-of-type {\n",
       "        vertical-align: middle;\n",
       "    }\n",
       "\n",
       "    .dataframe tbody tr th {\n",
       "        vertical-align: top;\n",
       "    }\n",
       "\n",
       "    .dataframe thead th {\n",
       "        text-align: right;\n",
       "    }\n",
       "</style>\n",
       "<table border=\"1\" class=\"dataframe\">\n",
       "  <thead>\n",
       "    <tr style=\"text-align: right;\">\n",
       "      <th></th>\n",
       "      <th>City</th>\n",
       "      <th>PM2.5</th>\n",
       "      <th>PM10</th>\n",
       "      <th>NO</th>\n",
       "      <th>NO2</th>\n",
       "      <th>NOx</th>\n",
       "      <th>NH3</th>\n",
       "      <th>CO</th>\n",
       "      <th>SO2</th>\n",
       "      <th>O3</th>\n",
       "      <th>Benzene</th>\n",
       "      <th>Toluene</th>\n",
       "      <th>AQI</th>\n",
       "      <th>Air-quality</th>\n",
       "    </tr>\n",
       "  </thead>\n",
       "  <tbody>\n",
       "    <tr>\n",
       "      <th>10230</th>\n",
       "      <td>Delhi</td>\n",
       "      <td>186.18</td>\n",
       "      <td>269.55</td>\n",
       "      <td>62.09</td>\n",
       "      <td>32.87</td>\n",
       "      <td>88.14</td>\n",
       "      <td>31.83</td>\n",
       "      <td>9.54</td>\n",
       "      <td>6.65</td>\n",
       "      <td>29.97</td>\n",
       "      <td>10.55</td>\n",
       "      <td>20.09</td>\n",
       "      <td>454.0</td>\n",
       "      <td>4</td>\n",
       "    </tr>\n",
       "    <tr>\n",
       "      <th>10231</th>\n",
       "      <td>Delhi</td>\n",
       "      <td>87.18</td>\n",
       "      <td>131.90</td>\n",
       "      <td>25.73</td>\n",
       "      <td>30.31</td>\n",
       "      <td>47.95</td>\n",
       "      <td>69.55</td>\n",
       "      <td>10.61</td>\n",
       "      <td>2.65</td>\n",
       "      <td>19.71</td>\n",
       "      <td>3.91</td>\n",
       "      <td>10.23</td>\n",
       "      <td>143.0</td>\n",
       "      <td>1</td>\n",
       "    </tr>\n",
       "    <tr>\n",
       "      <th>10232</th>\n",
       "      <td>Delhi</td>\n",
       "      <td>151.84</td>\n",
       "      <td>241.84</td>\n",
       "      <td>25.01</td>\n",
       "      <td>36.91</td>\n",
       "      <td>48.62</td>\n",
       "      <td>130.36</td>\n",
       "      <td>11.54</td>\n",
       "      <td>4.63</td>\n",
       "      <td>25.36</td>\n",
       "      <td>4.26</td>\n",
       "      <td>9.71</td>\n",
       "      <td>319.0</td>\n",
       "      <td>5</td>\n",
       "    </tr>\n",
       "    <tr>\n",
       "      <th>10233</th>\n",
       "      <td>Delhi</td>\n",
       "      <td>146.60</td>\n",
       "      <td>219.13</td>\n",
       "      <td>14.01</td>\n",
       "      <td>34.92</td>\n",
       "      <td>38.25</td>\n",
       "      <td>122.88</td>\n",
       "      <td>9.20</td>\n",
       "      <td>3.33</td>\n",
       "      <td>23.20</td>\n",
       "      <td>2.80</td>\n",
       "      <td>6.21</td>\n",
       "      <td>325.0</td>\n",
       "      <td>5</td>\n",
       "    </tr>\n",
       "    <tr>\n",
       "      <th>10234</th>\n",
       "      <td>Delhi</td>\n",
       "      <td>149.58</td>\n",
       "      <td>252.10</td>\n",
       "      <td>17.21</td>\n",
       "      <td>37.84</td>\n",
       "      <td>42.46</td>\n",
       "      <td>134.97</td>\n",
       "      <td>9.44</td>\n",
       "      <td>3.66</td>\n",
       "      <td>26.83</td>\n",
       "      <td>3.63</td>\n",
       "      <td>7.35</td>\n",
       "      <td>318.0</td>\n",
       "      <td>5</td>\n",
       "    </tr>\n",
       "  </tbody>\n",
       "</table>\n",
       "</div>"
      ],
      "text/plain": [
       "        City   PM2.5    PM10     NO    NO2    NOx     NH3     CO   SO2     O3  \\\n",
       "10230  Delhi  186.18  269.55  62.09  32.87  88.14   31.83   9.54  6.65  29.97   \n",
       "10231  Delhi   87.18  131.90  25.73  30.31  47.95   69.55  10.61  2.65  19.71   \n",
       "10232  Delhi  151.84  241.84  25.01  36.91  48.62  130.36  11.54  4.63  25.36   \n",
       "10233  Delhi  146.60  219.13  14.01  34.92  38.25  122.88   9.20  3.33  23.20   \n",
       "10234  Delhi  149.58  252.10  17.21  37.84  42.46  134.97   9.44  3.66  26.83   \n",
       "\n",
       "       Benzene  Toluene    AQI  Air-quality  \n",
       "10230    10.55    20.09  454.0            4  \n",
       "10231     3.91    10.23  143.0            1  \n",
       "10232     4.26     9.71  319.0            5  \n",
       "10233     2.80     6.21  325.0            5  \n",
       "10234     3.63     7.35  318.0            5  "
      ]
     },
     "execution_count": 62,
     "metadata": {},
     "output_type": "execute_result"
    }
   ],
   "source": [
    "Delhi_data.head()"
   ]
  },
  {
   "cell_type": "code",
   "execution_count": 63,
   "id": "303fd5a7",
   "metadata": {},
   "outputs": [],
   "source": [
    "X = Delhi_data.drop(['AQI', 'City'], axis=1)\n",
    "Y = Delhi_data['AQI']"
   ]
  },
  {
   "cell_type": "code",
   "execution_count": 64,
   "id": "d7557935",
   "metadata": {},
   "outputs": [],
   "source": [
    "# Building the model\n",
    "extra_tree_forest = ExtraTreesClassifier(n_estimators = 5, criterion ='entropy', max_features = 12)\n",
    "\n",
    "# Training the model\n",
    "extra_tree_forest.fit(X, Y)\n",
    "\n",
    "# Computing the importance of each feature\n",
    "feature_importance = extra_tree_forest.feature_importances_\n",
    "\n",
    "# Normalizing the individual importances\n",
    "feature_importance_normalized = np.std([tree.feature_importances_ for tree in extra_tree_forest.estimators_], axis = 0)"
   ]
  },
  {
   "cell_type": "code",
   "execution_count": 65,
   "id": "21254e58",
   "metadata": {},
   "outputs": [
    {
     "data": {
      "image/png": "[encoded data removed]",
      "text/plain": [
       "<Figure size 1080x360 with 1 Axes>"
      ]
     },
     "metadata": {
      "needs_background": "light"
     },
     "output_type": "display_data"
    }
   ],
   "source": [
    "# Creating a new figure with a specific size (15 inches in width and 5 inches in height).\n",
    "plt.figure(figsize=(15, 5))\n",
    "\n",
    "# Creating a bar graph to compare feature importances.\n",
    "# X.columns represents the feature labels, and feature_importance_normalized represents the corresponding importances.\n",
    "plt.bar(X.columns, feature_importance_normalized)\n",
    "\n",
    "# Adding labels to the x and y axes.\n",
    "plt.xlabel('Feature Labels')\n",
    "plt.ylabel('Feature Importances')\n",
    "\n",
    "# Adding a title to the plot.\n",
    "plt.title('Comparison of Different Feature Importances')\n",
    "\n",
    "# Displaying the bar graph.\n",
    "plt.show()"
   ]
  },
  {
   "cell_type": "code",
   "execution_count": 66,
   "id": "27426ece",
   "metadata": {},
   "outputs": [],
   "source": [
    "# Dropping the feature with least importance.\n",
    "Delhi_data = Delhi_data.drop(['Toluene'], axis=1)"
   ]
  },
  {
   "cell_type": "code",
   "execution_count": 67,
   "id": "0afc9126",
   "metadata": {},
   "outputs": [],
   "source": [
    "X = Delhi_data.drop(['Air-quality', 'City'], axis=1)\n",
    "Y = Delhi_data['Air-quality']"
   ]
  },
  {
   "cell_type": "code",
   "execution_count": 68,
   "id": "bbf03715",
   "metadata": {},
   "outputs": [],
   "source": [
    "# Spliting Dataset into training and testing.\n",
    "X_Train, X_Test, Y_Train, Y_test = train_test_split(X, Y, test_size=0.2)"
   ]
  },
  {
   "cell_type": "code",
   "execution_count": 69,
   "id": "11eaa3d1",
   "metadata": {},
   "outputs": [
    {
     "name": "stdout",
     "output_type": "stream",
     "text": [
      "Accuracy: 0.9320652173913043\n",
      "Precision: 0.9343087838814581\n",
      "Recall: 0.9320652173913043\n",
      "F1 SCore: 0.9270693301718306\n"
     ]
    }
   ],
   "source": [
    "# Applying Random Forest classifier.\n",
    "rfm = RandomForestClassifier(max_depth=5, n_estimators=5)\n",
    "rfm.fit(X_Train, Y_Train)\n",
    "\n",
    "# Making Prediction.\n",
    "y_pred_ben = rfm.predict(X_Test)\n",
    "\n",
    "# Calculating metrics for evaluating the model's performance on the test data.\n",
    "acc_ben = accuracy_score(Y_test, y_pred_ben)\n",
    "f1_ben = f1_score(Y_test, y_pred_ben, average='weighted')\n",
    "recall_ben = recall_score(Y_test, y_pred_ben, average= 'weighted')\n",
    "precision_ben = precision_score(Y_test, y_pred_ben, average= 'weighted')\n",
    "\n",
    "# Displaying the evaluation metrics.\n",
    "print(\"Accuracy:\", acc_ben)\n",
    "print('Precision:', precision_ben)\n",
    "print('Recall:', recall_ben)\n",
    "print('F1 SCore:', f1_ben)"
   ]
  },
  {
   "cell_type": "code",
   "execution_count": 70,
   "id": "c5c10bc8",
   "metadata": {},
   "outputs": [
    {
     "name": "stdout",
     "output_type": "stream",
     "text": [
      "[[  3   0   0   0   0   0]\n",
      " [  0 110   0   0   0   0]\n",
      " [  0   0 109   0   0   0]\n",
      " [  0   8   0  23   0   0]\n",
      " [  0   0   0   0  14  12]\n",
      " [  0   0   4   0   1  84]]\n"
     ]
    }
   ],
   "source": [
    "from sklearn.metrics import confusion_matrix\n",
    "matrix =  confusion_matrix(Y_test,y_pred_ben)\n",
    "print(matrix)"
   ]
  },
  {
   "cell_type": "code",
   "execution_count": 71,
   "id": "d40fc2a2",
   "metadata": {},
   "outputs": [
    {
     "data": {
      "text/plain": [
       "(2006, 14)"
      ]
     },
     "execution_count": 71,
     "metadata": {},
     "output_type": "execute_result"
    }
   ],
   "source": [
    "Hydrabad_data.shape"
   ]
  },
  {
   "cell_type": "code",
   "execution_count": 72,
   "id": "8cad3b2e",
   "metadata": {},
   "outputs": [
    {
     "data": {
      "text/html": [
       "<div>\n",
       "<style scoped>\n",
       "    .dataframe tbody tr th:only-of-type {\n",
       "        vertical-align: middle;\n",
       "    }\n",
       "\n",
       "    .dataframe tbody tr th {\n",
       "        vertical-align: top;\n",
       "    }\n",
       "\n",
       "    .dataframe thead th {\n",
       "        text-align: right;\n",
       "    }\n",
       "</style>\n",
       "<table border=\"1\" class=\"dataframe\">\n",
       "  <thead>\n",
       "    <tr style=\"text-align: right;\">\n",
       "      <th></th>\n",
       "      <th>City</th>\n",
       "      <th>PM2.5</th>\n",
       "      <th>PM10</th>\n",
       "      <th>NO</th>\n",
       "      <th>NO2</th>\n",
       "      <th>NOx</th>\n",
       "      <th>NH3</th>\n",
       "      <th>CO</th>\n",
       "      <th>SO2</th>\n",
       "      <th>O3</th>\n",
       "      <th>Benzene</th>\n",
       "      <th>Toluene</th>\n",
       "      <th>AQI</th>\n",
       "      <th>Air-quality</th>\n",
       "    </tr>\n",
       "  </thead>\n",
       "  <tbody>\n",
       "    <tr>\n",
       "      <th>14581</th>\n",
       "      <td>Hyderabad</td>\n",
       "      <td>47.03</td>\n",
       "      <td>93.0</td>\n",
       "      <td>3.70</td>\n",
       "      <td>17.19</td>\n",
       "      <td>20.89</td>\n",
       "      <td>24.94</td>\n",
       "      <td>0.30</td>\n",
       "      <td>2.58</td>\n",
       "      <td>30.34</td>\n",
       "      <td>0.41</td>\n",
       "      <td>6.15</td>\n",
       "      <td>120.0</td>\n",
       "      <td>Moderate</td>\n",
       "    </tr>\n",
       "    <tr>\n",
       "      <th>14582</th>\n",
       "      <td>Hyderabad</td>\n",
       "      <td>47.03</td>\n",
       "      <td>93.0</td>\n",
       "      <td>3.61</td>\n",
       "      <td>9.69</td>\n",
       "      <td>13.30</td>\n",
       "      <td>24.94</td>\n",
       "      <td>0.23</td>\n",
       "      <td>5.19</td>\n",
       "      <td>31.28</td>\n",
       "      <td>0.39</td>\n",
       "      <td>7.22</td>\n",
       "      <td>120.0</td>\n",
       "      <td>Moderate</td>\n",
       "    </tr>\n",
       "    <tr>\n",
       "      <th>14583</th>\n",
       "      <td>Hyderabad</td>\n",
       "      <td>47.03</td>\n",
       "      <td>93.0</td>\n",
       "      <td>4.21</td>\n",
       "      <td>22.02</td>\n",
       "      <td>26.23</td>\n",
       "      <td>24.94</td>\n",
       "      <td>0.31</td>\n",
       "      <td>9.09</td>\n",
       "      <td>28.56</td>\n",
       "      <td>0.52</td>\n",
       "      <td>5.14</td>\n",
       "      <td>120.0</td>\n",
       "      <td>Moderate</td>\n",
       "    </tr>\n",
       "    <tr>\n",
       "      <th>14584</th>\n",
       "      <td>Hyderabad</td>\n",
       "      <td>47.03</td>\n",
       "      <td>93.0</td>\n",
       "      <td>26.08</td>\n",
       "      <td>40.08</td>\n",
       "      <td>66.15</td>\n",
       "      <td>24.94</td>\n",
       "      <td>0.53</td>\n",
       "      <td>9.03</td>\n",
       "      <td>31.08</td>\n",
       "      <td>1.92</td>\n",
       "      <td>16.35</td>\n",
       "      <td>120.0</td>\n",
       "      <td>Moderate</td>\n",
       "    </tr>\n",
       "    <tr>\n",
       "      <th>14585</th>\n",
       "      <td>Hyderabad</td>\n",
       "      <td>47.03</td>\n",
       "      <td>93.0</td>\n",
       "      <td>10.31</td>\n",
       "      <td>33.02</td>\n",
       "      <td>43.33</td>\n",
       "      <td>24.94</td>\n",
       "      <td>0.44</td>\n",
       "      <td>8.47</td>\n",
       "      <td>35.72</td>\n",
       "      <td>1.89</td>\n",
       "      <td>14.27</td>\n",
       "      <td>120.0</td>\n",
       "      <td>Moderate</td>\n",
       "    </tr>\n",
       "    <tr>\n",
       "      <th>14586</th>\n",
       "      <td>Hyderabad</td>\n",
       "      <td>47.03</td>\n",
       "      <td>93.0</td>\n",
       "      <td>8.79</td>\n",
       "      <td>31.60</td>\n",
       "      <td>40.39</td>\n",
       "      <td>24.94</td>\n",
       "      <td>0.39</td>\n",
       "      <td>8.92</td>\n",
       "      <td>34.77</td>\n",
       "      <td>0.77</td>\n",
       "      <td>12.47</td>\n",
       "      <td>120.0</td>\n",
       "      <td>Moderate</td>\n",
       "    </tr>\n",
       "    <tr>\n",
       "      <th>14587</th>\n",
       "      <td>Hyderabad</td>\n",
       "      <td>47.03</td>\n",
       "      <td>93.0</td>\n",
       "      <td>8.12</td>\n",
       "      <td>32.52</td>\n",
       "      <td>40.64</td>\n",
       "      <td>24.94</td>\n",
       "      <td>0.43</td>\n",
       "      <td>9.59</td>\n",
       "      <td>34.63</td>\n",
       "      <td>1.14</td>\n",
       "      <td>14.06</td>\n",
       "      <td>120.0</td>\n",
       "      <td>Moderate</td>\n",
       "    </tr>\n",
       "    <tr>\n",
       "      <th>14588</th>\n",
       "      <td>Hyderabad</td>\n",
       "      <td>47.03</td>\n",
       "      <td>93.0</td>\n",
       "      <td>14.00</td>\n",
       "      <td>31.96</td>\n",
       "      <td>45.96</td>\n",
       "      <td>24.94</td>\n",
       "      <td>0.39</td>\n",
       "      <td>12.53</td>\n",
       "      <td>38.74</td>\n",
       "      <td>1.02</td>\n",
       "      <td>10.40</td>\n",
       "      <td>120.0</td>\n",
       "      <td>Moderate</td>\n",
       "    </tr>\n",
       "    <tr>\n",
       "      <th>14589</th>\n",
       "      <td>Hyderabad</td>\n",
       "      <td>47.03</td>\n",
       "      <td>93.0</td>\n",
       "      <td>13.26</td>\n",
       "      <td>30.20</td>\n",
       "      <td>43.46</td>\n",
       "      <td>24.94</td>\n",
       "      <td>0.48</td>\n",
       "      <td>8.58</td>\n",
       "      <td>20.94</td>\n",
       "      <td>0.92</td>\n",
       "      <td>15.16</td>\n",
       "      <td>120.0</td>\n",
       "      <td>Moderate</td>\n",
       "    </tr>\n",
       "    <tr>\n",
       "      <th>14590</th>\n",
       "      <td>Hyderabad</td>\n",
       "      <td>47.03</td>\n",
       "      <td>93.0</td>\n",
       "      <td>33.63</td>\n",
       "      <td>23.37</td>\n",
       "      <td>57.00</td>\n",
       "      <td>24.94</td>\n",
       "      <td>0.72</td>\n",
       "      <td>3.01</td>\n",
       "      <td>13.66</td>\n",
       "      <td>2.05</td>\n",
       "      <td>17.65</td>\n",
       "      <td>120.0</td>\n",
       "      <td>Moderate</td>\n",
       "    </tr>\n",
       "  </tbody>\n",
       "</table>\n",
       "</div>"
      ],
      "text/plain": [
       "            City  PM2.5  PM10     NO    NO2    NOx    NH3    CO    SO2     O3  \\\n",
       "14581  Hyderabad  47.03  93.0   3.70  17.19  20.89  24.94  0.30   2.58  30.34   \n",
       "14582  Hyderabad  47.03  93.0   3.61   9.69  13.30  24.94  0.23   5.19  31.28   \n",
       "14583  Hyderabad  47.03  93.0   4.21  22.02  26.23  24.94  0.31   9.09  28.56   \n",
       "14584  Hyderabad  47.03  93.0  26.08  40.08  66.15  24.94  0.53   9.03  31.08   \n",
       "14585  Hyderabad  47.03  93.0  10.31  33.02  43.33  24.94  0.44   8.47  35.72   \n",
       "14586  Hyderabad  47.03  93.0   8.79  31.60  40.39  24.94  0.39   8.92  34.77   \n",
       "14587  Hyderabad  47.03  93.0   8.12  32.52  40.64  24.94  0.43   9.59  34.63   \n",
       "14588  Hyderabad  47.03  93.0  14.00  31.96  45.96  24.94  0.39  12.53  38.74   \n",
       "14589  Hyderabad  47.03  93.0  13.26  30.20  43.46  24.94  0.48   8.58  20.94   \n",
       "14590  Hyderabad  47.03  93.0  33.63  23.37  57.00  24.94  0.72   3.01  13.66   \n",
       "\n",
       "       Benzene  Toluene    AQI Air-quality  \n",
       "14581     0.41     6.15  120.0    Moderate  \n",
       "14582     0.39     7.22  120.0    Moderate  \n",
       "14583     0.52     5.14  120.0    Moderate  \n",
       "14584     1.92    16.35  120.0    Moderate  \n",
       "14585     1.89    14.27  120.0    Moderate  \n",
       "14586     0.77    12.47  120.0    Moderate  \n",
       "14587     1.14    14.06  120.0    Moderate  \n",
       "14588     1.02    10.40  120.0    Moderate  \n",
       "14589     0.92    15.16  120.0    Moderate  \n",
       "14590     2.05    17.65  120.0    Moderate  "
      ]
     },
     "execution_count": 72,
     "metadata": {},
     "output_type": "execute_result"
    }
   ],
   "source": [
    "Hydrabad_data.head(10)"
   ]
  },
  {
   "cell_type": "code",
   "execution_count": 73,
   "id": "308c6b12",
   "metadata": {},
   "outputs": [
    {
     "name": "stdout",
     "output_type": "stream",
     "text": [
      "            City  PM2.5   PM10     NO    NO2    NOx    NH3    CO   SO2     O3  \\\n",
      "14581  Hyderabad  47.03  93.00   3.70  17.19  20.89  24.94  0.30  2.58  30.34   \n",
      "14582  Hyderabad  47.03  93.00   3.61   9.69  13.30  24.94  0.23  5.19  31.28   \n",
      "14583  Hyderabad  47.03  93.00   4.21  22.02  26.23  24.94  0.31  9.09  28.56   \n",
      "14584  Hyderabad  47.03  93.00  26.08  40.08  66.15  24.94  0.53  9.03  31.08   \n",
      "14585  Hyderabad  47.03  93.00  10.31  33.02  43.33  24.94  0.44  8.47  35.72   \n",
      "...          ...    ...    ...    ...    ...    ...    ...   ...   ...    ...   \n",
      "16582  Hyderabad  23.29  44.20   6.38  22.64  15.39   9.34  0.36  5.39  24.22   \n",
      "16583  Hyderabad  15.80  32.18   5.79  22.73  14.89  11.09  0.36  6.36  22.25   \n",
      "16584  Hyderabad  20.24  44.74   3.96  27.59  17.09  13.09  0.38  6.29  19.98   \n",
      "16585  Hyderabad  19.38  41.95   2.63  24.58  14.59  10.80  0.39  5.30  17.40   \n",
      "16586  Hyderabad  26.83  66.50   2.94  27.18  16.13   9.32  0.43  6.07  13.20   \n",
      "\n",
      "       Benzene  Toluene    AQI   Air-quality  \n",
      "14581     0.41     6.15  120.0      Moderate  \n",
      "14582     0.39     7.22  120.0      Moderate  \n",
      "14583     0.52     5.14  120.0      Moderate  \n",
      "14584     1.92    16.35  120.0      Moderate  \n",
      "14585     1.89    14.27  120.0      Moderate  \n",
      "...        ...      ...    ...           ...  \n",
      "16582     0.88     6.72   58.0  Satisfactory  \n",
      "16583     0.82     6.48   49.0          Good  \n",
      "16584     1.31    10.83   47.0          Good  \n",
      "16585     1.45    13.07   46.0          Good  \n",
      "16586     1.31    16.51   48.0          Good  \n",
      "\n",
      "[2006 rows x 14 columns]\n"
     ]
    }
   ],
   "source": [
    " print(Hydrabad_data)"
   ]
  },
  {
   "cell_type": "code",
   "execution_count": 74,
   "id": "d2bac9dd",
   "metadata": {},
   "outputs": [
    {
     "data": {
      "image/png": "[encoded data removed]",
      "text/plain": [
       "<Figure size 1080x720 with 2 Axes>"
      ]
     },
     "metadata": {
      "needs_background": "light"
     },
     "output_type": "display_data"
    }
   ],
   "source": [
    "# Creating a new figure with a specific size (15 inches in width and 10 inches in height).\n",
    "plt.figure(figsize=(15, 10))\n",
    "\n",
    "# Creating a heatmap of the correlation matrix for the 'Bengalore' data.\n",
    "# The 'corr()' method calculates the correlation between different columns in the DataFrame.\n",
    "# The 'annot=True' parameter adds the correlation values to the heatmap.\n",
    "sns.heatmap(Hydrabad_data.corr(), annot=True)\n",
    "\n",
    "# Displaying the heatmap.\n",
    "plt.show();"
   ]
  },
  {
   "cell_type": "code",
   "execution_count": 75,
   "id": "f85a882a",
   "metadata": {},
   "outputs": [],
   "source": [
    "Qt_1 = Hydrabad_data[['NO', 'PM2.5']].quantile(0.25)\n",
    "Qt_3 = Hydrabad_data[['NO', 'PM2.5']].quantile(0.75)\n",
    "\n",
    "# Calculating the Interquartile Range (IQR) for the 'NO' and 'PM2.5' columns.\n",
    "i_q_r = Qt_3 - Qt_1\n",
    "\n",
    "# Calculating the lower and upper bounds for identifying outliers using the IQR method.\n",
    "low_bound = Qt_1 - (1.5 * i_q_r)\n",
    "up_bound = Qt_3 + (1.5 * i_q_r)\n",
    "\n",
    "# Removing outliers from the 'NO' column within the specified bounds.\n",
    "Hydrabad_data = Hydrabad_data[(Hydrabad_data['NO'] >= low_bound['NO']) & (Hydrabad_data['NO'] <= up_bound['NO'])]\n",
    "\n",
    "# Removing outliers from the 'PM2.5' column within the specified bounds.\n",
    "Hydrabad_data = Hydrabad_data[(Hydrabad_data['PM2.5'] >= low_bound['PM2.5']) & (Hydrabad_data['PM2.5'] <= up_bound['PM2.5'])]"
   ]
  },
  {
   "cell_type": "code",
   "execution_count": 76,
   "id": "f1d3d294",
   "metadata": {},
   "outputs": [
    {
     "data": {
      "image/png": "[encoded data removed]",
      "text/plain": [
       "<Figure size 432x288 with 1 Axes>"
      ]
     },
     "metadata": {
      "needs_background": "light"
     },
     "output_type": "display_data"
    }
   ],
   "source": [
    "# Calculating the value counts of the 'Air_quality' column in the 'Bengalore' data.\n",
    "value_counts = Hydrabad_data['Air-quality'].value_counts()\n",
    "\n",
    "# Creating a bar plot to visualize the distribution of Air Quality categories in Bengalore.\n",
    "plt.bar(value_counts.index, value_counts.values)\n",
    "\n",
    "# Adding a title to the plot indicating the variable being visualized and the city.\n",
    "plt.title(f\"{'Air-quality'} Value Counts of Bangalore\")\n",
    "\n",
    "# Adding labels to the x and y axes.\n",
    "plt.xlabel('Air Quality')\n",
    "plt.ylabel(\"Count\")\n",
    "\n",
    "# Adding text annotations to each bar with the count of occurrences.\n",
    "for i, v in enumerate(value_counts.values):\n",
    "    plt.text(i, v, str(v), color='black', ha='center')\n",
    "\n",
    "# Displaying the bar plot.\n",
    "plt.show()"
   ]
  },
  {
   "cell_type": "code",
   "execution_count": 77,
   "id": "65be03b5",
   "metadata": {},
   "outputs": [],
   "source": [
    "X = Hydrabad_data.drop(['AQI', 'City'], axis=1)\n",
    "Y = Hydrabad_data['AQI']"
   ]
  },
  {
   "cell_type": "code",
   "execution_count": 87,
   "id": "7ede4d3f",
   "metadata": {},
   "outputs": [],
   "source": [
    "from sklearn.ensemble import ExtraTreesClassifier\n",
    "extra_tree_forest = ExtraTreesClassifier(n_estimators = 5, criterion ='entropy', max_features = 12)\n",
    "\n",
    "# Training the model\n",
    "extra_tree_forest.fit(X, Y)\n",
    "\n",
    "# Computing the importance of each feature\n",
    "feature_importance = extra_tree_forest.feature_importances_\n",
    "\n",
    "# Normalizing the individual importances\n",
    "feature_importance_normalized = np.std([tree.feature_importances_ for tree in extra_tree_forest.estimators_], axis = 0)"
   ]
  },
  {
   "cell_type": "code",
   "execution_count": 89,
   "id": "977fba6c",
   "metadata": {},
   "outputs": [
    {
     "data": {
      "image/png": "[encoded data removed]",
      "text/plain": [
       "<Figure size 1080x360 with 1 Axes>"
      ]
     },
     "metadata": {
      "needs_background": "light"
     },
     "output_type": "display_data"
    }
   ],
   "source": [
    "# Creating a new figure with a specific size (15 inches in width and 5 inches in height).\n",
    "plt.figure(figsize=(15, 5))\n",
    "\n",
    "# Creating a bar graph to compare feature importances.\n",
    "# X.columns represents the feature labels, and feature_importance_normalized represents the corresponding importances.\n",
    "plt.bar(X.columns, feature_importance_normalized)\n",
    "\n",
    "# Adding labels to the x and y axes.\n",
    "plt.xlabel('Feature Labels')\n",
    "plt.ylabel('Feature Importances')\n",
    "\n",
    "# Adding a title to the plot.\n",
    "plt.title('Comparison of Different Feature Importances')\n",
    "\n",
    "# Displaying the bar graph.\n",
    "plt.show()"
   ]
  },
  {
   "cell_type": "code",
   "execution_count": 90,
   "id": "07843a43",
   "metadata": {},
   "outputs": [
    {
     "data": {
      "image/png": "[encoded data removed]",
      "text/plain": [
       "<Figure size 1080x360 with 1 Axes>"
      ]
     },
     "metadata": {
      "needs_background": "light"
     },
     "output_type": "display_data"
    }
   ],
   "source": [
    "# Creating a new figure with a specific size (15 inches in width and 5 inches in height).\n",
    "plt.figure(figsize=(15, 5))\n",
    "\n",
    "# Creating a bar graph to compare feature importances.\n",
    "# X.columns represents the feature labels, and feature_importance_normalized represents the corresponding importances.\n",
    "plt.bar(X.columns, feature_importance_normalized)\n",
    "\n",
    "# Adding labels to the x and y axes.\n",
    "plt.xlabel('Feature Labels')\n",
    "plt.ylabel('Feature Importances')\n",
    "\n",
    "# Adding a title to the plot.\n",
    "plt.title('Comparison of Different Feature Importances')\n",
    "\n",
    "# Displaying the bar graph.\n",
    "plt.show()"
   ]
  },
  {
   "cell_type": "code",
   "execution_count": 91,
   "id": "d9205190",
   "metadata": {},
   "outputs": [],
   "source": [
    "X = Hydrabad_data.drop(['Air-quality', 'City'], axis=1)\n",
    "Y = Hydrabad_data['Air-quality']"
   ]
  },
  {
   "cell_type": "code",
   "execution_count": 92,
   "id": "2109f3e9",
   "metadata": {},
   "outputs": [],
   "source": [
    "# Spliting Dataset into training and testing.\n",
    "X_Train, X_Test, Y_Train, Y_test = train_test_split(X, Y, test_size=0.2)"
   ]
  },
  {
   "cell_type": "code",
   "execution_count": 93,
   "id": "3316c929",
   "metadata": {},
   "outputs": [
    {
     "name": "stdout",
     "output_type": "stream",
     "text": [
      "Accuracy: 0.9815303430079155\n",
      "Precision: 0.9821703806264532\n",
      "Recall: 0.9815303430079155\n",
      "F1 SCore: 0.9773835871055786\n"
     ]
    }
   ],
   "source": [
    "# Applying Random Forest classifier.\n",
    "rfm = RandomForestClassifier(max_depth=5, n_estimators=5)\n",
    "rfm.fit(X_Train, Y_Train)\n",
    "\n",
    "# Making Prediction.\n",
    "y_pred_ben = rfm.predict(X_Test)\n",
    "\n",
    "# Calculating metrics for evaluating the model's performance on the test data.\n",
    "acc_ben = accuracy_score(Y_test, y_pred_ben)\n",
    "f1_ben = f1_score(Y_test, y_pred_ben, average='weighted')\n",
    "recall_ben = recall_score(Y_test, y_pred_ben, average= 'weighted')\n",
    "precision_ben = precision_score(Y_test, y_pred_ben, average= 'weighted')\n",
    "\n",
    "# Displaying the evaluation metrics.\n",
    "print(\"Accuracy:\", acc_ben)\n",
    "print('Precision:', precision_ben)\n",
    "print('Recall:', recall_ben)\n",
    "print('F1 SCore:', f1_ben)"
   ]
  },
  {
   "cell_type": "code",
   "execution_count": 94,
   "id": "b55bd9b9",
   "metadata": {},
   "outputs": [
    {
     "name": "stdout",
     "output_type": "stream",
     "text": [
      "[[ 29   0   0   0]\n",
      " [  0 195   0   0]\n",
      " [  0   7   4   0]\n",
      " [  0   0   0 144]]\n"
     ]
    }
   ],
   "source": [
    "from sklearn.metrics import confusion_matrix\n",
    "matrix =  confusion_matrix(Y_test,y_pred_ben)\n",
    "print(matrix)"
   ]
  },
  {
   "cell_type": "code",
   "execution_count": null,
   "id": "48768804",
   "metadata": {},
   "outputs": [],
   "source": [
    " "
   ]
  },
  {
   "cell_type": "code",
   "execution_count": null,
   "id": "a018420c",
   "metadata": {},
   "outputs": [],
   "source": [
    " "
   ]
  },
  {
   "cell_type": "code",
   "execution_count": null,
   "id": "eddf5d41",
   "metadata": {},
   "outputs": [],
   "source": []
  }
 ],
 "metadata": {
  "kernelspec": {
   "display_name": "Python 3 (ipykernel)",
   "language": "python",
   "name": "python3"
  },
  "language_info": {
   "codemirror_mode": {
    "name": "ipython",
    "version": 3
   },
   "file_extension": ".py",
   "mimetype": "text/x-python",
   "name": "python",
   "nbconvert_exporter": "python",
   "pygments_lexer": "ipython3",
   "version": "3.9.12"
  }
 },
 "nbformat": 4,
 "nbformat_minor": 5
}
